{
 "cells": [
  {
   "cell_type": "code",
   "execution_count": 63,
   "metadata": {
    "scrolled": true
   },
   "outputs": [
    {
     "data": {
      "text/html": [
       "<div>\n",
       "<style scoped>\n",
       "    .dataframe tbody tr th:only-of-type {\n",
       "        vertical-align: middle;\n",
       "    }\n",
       "\n",
       "    .dataframe tbody tr th {\n",
       "        vertical-align: top;\n",
       "    }\n",
       "\n",
       "    .dataframe thead th {\n",
       "        text-align: right;\n",
       "    }\n",
       "</style>\n",
       "<table border=\"1\" class=\"dataframe\">\n",
       "  <thead>\n",
       "    <tr style=\"text-align: right;\">\n",
       "      <th></th>\n",
       "      <th>from</th>\n",
       "      <th>to</th>\n",
       "      <th>X</th>\n",
       "      <th>stim</th>\n",
       "      <th>comment</th>\n",
       "      <th>drug</th>\n",
       "    </tr>\n",
       "  </thead>\n",
       "  <tbody>\n",
       "    <tr>\n",
       "      <th>0</th>\n",
       "      <td>learn024</td>\n",
       "      <td>learn024</td>\n",
       "      <td>0.10</td>\n",
       "      <td>0.3</td>\n",
       "      <td>short prot</td>\n",
       "      <td>NaN</td>\n",
       "    </tr>\n",
       "    <tr>\n",
       "      <th>1</th>\n",
       "      <td>learn025</td>\n",
       "      <td>learn025</td>\n",
       "      <td>0.10</td>\n",
       "      <td>0.1</td>\n",
       "      <td>NaN</td>\n",
       "      <td>NaN</td>\n",
       "    </tr>\n",
       "    <tr>\n",
       "      <th>2</th>\n",
       "      <td>learn026</td>\n",
       "      <td>learn026</td>\n",
       "      <td>0.01</td>\n",
       "      <td>0.3</td>\n",
       "      <td>NaN</td>\n",
       "      <td>NaN</td>\n",
       "    </tr>\n",
       "    <tr>\n",
       "      <th>3</th>\n",
       "      <td>learn027</td>\n",
       "      <td>learn027</td>\n",
       "      <td>0.01</td>\n",
       "      <td>1.0</td>\n",
       "      <td>NaN</td>\n",
       "      <td>NaN</td>\n",
       "    </tr>\n",
       "    <tr>\n",
       "      <th>4</th>\n",
       "      <td>learn028</td>\n",
       "      <td>learn028</td>\n",
       "      <td>0.01</td>\n",
       "      <td>2.0</td>\n",
       "      <td>NaN</td>\n",
       "      <td>NaN</td>\n",
       "    </tr>\n",
       "    <tr>\n",
       "      <th>5</th>\n",
       "      <td>learn029</td>\n",
       "      <td>learn029</td>\n",
       "      <td>0.01</td>\n",
       "      <td>2.6</td>\n",
       "      <td>NaN</td>\n",
       "      <td>NaN</td>\n",
       "    </tr>\n",
       "    <tr>\n",
       "      <th>6</th>\n",
       "      <td>learn030</td>\n",
       "      <td>learn030</td>\n",
       "      <td>0.01</td>\n",
       "      <td>2.7</td>\n",
       "      <td>NaN</td>\n",
       "      <td>NaN</td>\n",
       "    </tr>\n",
       "    <tr>\n",
       "      <th>7</th>\n",
       "      <td>learn031</td>\n",
       "      <td>learn031</td>\n",
       "      <td>0.01</td>\n",
       "      <td>3.0</td>\n",
       "      <td>NaN</td>\n",
       "      <td>NaN</td>\n",
       "    </tr>\n",
       "    <tr>\n",
       "      <th>8</th>\n",
       "      <td>learn032</td>\n",
       "      <td>learn032</td>\n",
       "      <td>0.01</td>\n",
       "      <td>3.2</td>\n",
       "      <td>NaN</td>\n",
       "      <td>NaN</td>\n",
       "    </tr>\n",
       "    <tr>\n",
       "      <th>9</th>\n",
       "      <td>learn033</td>\n",
       "      <td>learn033</td>\n",
       "      <td>0.01</td>\n",
       "      <td>4.0</td>\n",
       "      <td>NaN</td>\n",
       "      <td>NaN</td>\n",
       "    </tr>\n",
       "    <tr>\n",
       "      <th>10</th>\n",
       "      <td>learn034</td>\n",
       "      <td>learn034</td>\n",
       "      <td>0.01</td>\n",
       "      <td>2.0</td>\n",
       "      <td>NaN</td>\n",
       "      <td>NaN</td>\n",
       "    </tr>\n",
       "    <tr>\n",
       "      <th>11</th>\n",
       "      <td>learn035</td>\n",
       "      <td>learn035</td>\n",
       "      <td>0.01</td>\n",
       "      <td>1.7</td>\n",
       "      <td>NaN</td>\n",
       "      <td>NaN</td>\n",
       "    </tr>\n",
       "  </tbody>\n",
       "</table>\n",
       "</div>"
      ],
      "text/plain": [
       "        from        to     X  stim     comment  drug\n",
       "0   learn024  learn024  0.10   0.3  short prot   NaN\n",
       "1   learn025  learn025  0.10   0.1         NaN   NaN\n",
       "2   learn026  learn026  0.01   0.3         NaN   NaN\n",
       "3   learn027  learn027  0.01   1.0         NaN   NaN\n",
       "4   learn028  learn028  0.01   2.0         NaN   NaN\n",
       "5   learn029  learn029  0.01   2.6         NaN   NaN\n",
       "6   learn030  learn030  0.01   2.7         NaN   NaN\n",
       "7   learn031  learn031  0.01   3.0         NaN   NaN\n",
       "8   learn032  learn032  0.01   3.2         NaN   NaN\n",
       "9   learn033  learn033  0.01   4.0         NaN   NaN\n",
       "10  learn034  learn034  0.01   2.0         NaN   NaN\n",
       "11  learn035  learn035  0.01   1.7         NaN   NaN"
      ]
     },
     "metadata": {},
     "output_type": "display_data"
    },
    {
     "name": "stdout",
     "output_type": "stream",
     "text": [
      "done\n"
     ]
    }
   ],
   "source": [
    "#modules\n",
    "from matplotlib import pyplot as plt\n",
    "import numpy as np\n",
    "import pyabf as pa\n",
    "import os.path\n",
    "import openpyxl as xl\n",
    "import pandas as pd\n",
    "from ABF_lib_Vera import *\n",
    "\n",
    "\n",
    "#########################################################################################################\n",
    "#open excel protocol file\n",
    "pr_filename = 'protocol.xlsx'\n",
    "#path = 'C:\\\\Users\\\\verat\\\\Documents\\\\Python\\\\BigAnalizer\\\\Nov16_DRUGS\\\\'\n",
    "path = 'C:\\\\Users\\\\tsintsad\\\\Desktop\\\\BigAnalizer\\\\Aug31_experiment\\\\'\n",
    "an_filename = 'analisys.xlsx'\n",
    "\n",
    "if (os.path.isdir(path+'figs')==False):\n",
    "    os.mkdir(path+'figs')\n",
    "    \n",
    "if (os.path.isfile(path+pr_filename)):\n",
    "    protocol=pd.read_excel(path+pr_filename, sheet_name='Sheet1')\n",
    "    display (protocol)\n",
    "else:\n",
    "        print(\"There's no protocol file\")\n",
    "# done, result - pandas dataframe\n",
    "\n",
    "\n",
    "#Condition - index of protocol dataframe\n",
    "A_c = {'lat_diff_treashold':[-5],'Baseline_start_sec':[0], 'Baseline_end_sec':[0.162],'Peak_find_start_sec':[0.16816], 'Peak_find_end_sec':[0.183]}\n",
    "Analysis_constants = pd.DataFrame(data = A_c)\n",
    "\n",
    "BaselineBorders = (from_secs_to_points(Analysis_constants['Baseline_start_sec'][0],50), from_secs_to_points(Analysis_constants['Baseline_end_sec'][0],50)) #to points for proper indexation \n",
    "PeakBorders = (from_secs_to_points(Analysis_constants['Peak_find_start_sec'][0],50), from_secs_to_points(Analysis_constants['Peak_find_end_sec'][0],50)) \n",
    "\n",
    "pdTimecourse = pd.DataFrame(columns = ['Condition','Time_sec','Filename','Sweep','Good_to_analize','Resp_Ampl','Latency','spontEPSC_freq','evokedEPSC_freq','Stim'])\n",
    "pd_Res_by_file = pd.DataFrame(columns = ['Condition','Filename','Mean_Resp_Ampl','STD_Resp_Ampl','Mean_Latency','Jitter','spontEPSC_freq','evokedEPSC_freq','Stim','Comment', 'drug'])\n",
    "Time_sec=0\n",
    "\n",
    "#for each condition\n",
    "for cond in protocol.index:\n",
    "    from_file=protocol['from'][cond]\n",
    "    to_file=protocol['to'][cond]\n",
    "    Stim = float(protocol['stim'][cond])*float(protocol['X'][cond])\n",
    "    filenames = from_to_filenames (from_file, to_file)\n",
    "#####################################################################################################    \n",
    "    #plotting trace with latency\n",
    "    for file in filenames:\n",
    "        data = abf_file_opener(path+file)\n",
    "\n",
    "        #file_abs_cr_time = os.path.getmtime(file+'.abf')\n",
    "        sweeps = list(range(1,data.sweepCount))\n",
    "        plt.subplots(nrows=3, ncols=4)\n",
    "        plt.title(file)\n",
    "        for i in sweeps:\n",
    "            Time_sec = Time_sec+from_points_to_secs(len(data.sweepY),50)\n",
    "            ind_df=len(pdTimecourse)\n",
    "            pdTimecourse.at[ind_df,'Condition']=cond\n",
    "            pdTimecourse.at[ind_df,'Filename']=file\n",
    "            pdTimecourse.at[ind_df,'Sweep']=i\n",
    "            pdTimecourse.at[ind_df,'Stim']=Stim \n",
    "            #get responce amplitude, lattency for every sweep\n",
    "            data.setSweep(i)\n",
    "\n",
    "            resp = resp_ampl(data.sweepY, BaselineBorders, PeakBorders)    \n",
    "            pdTimecourse.at[ind_df,'Resp_Ampl']=resp\n",
    "            lat = lattency (data.sweepY, Analysis_constants['lat_diff_treashold'][0], PeakBorders, i)\n",
    "            real_lat=from_points_to_secs(lat+PeakBorders[0], 50)-1  #counting lattency not from artifact but from 1s - by protocol, so 1 is 1s after biginning of sweep - stimulus is in 1 sec\n",
    "            pdTimecourse.at[ind_df,'Latency']=real_lat\n",
    "            pdTimecourse.at[ind_df,'Time_sec']=Time_sec\n",
    "\n",
    "        # save subplot to the filename.png\n",
    "        plt.title(file)\n",
    "        plt.savefig( path+'figs\\\\cond_'+str(cond)+'_'+file+'.png')\n",
    "        plt.close()\n",
    "        \n",
    " ######################################################################################################   \n",
    " #user tells what to exclude from analysis , or skips\n",
    "    #outliners_or_skip = input('Choose outliners? *y* or *n* or *f*:from analisys.xlsx ... ')\n",
    "    outliners_or_skip='n'\n",
    "    if (outliners_or_skip=='y'):\n",
    "        for file in filenames:\n",
    "            print(cond, file)\n",
    "            outliners=list(input('what to exclude? type separated by comas ... ')) #list of sweeps-outliners for each separate file\n",
    "            while (','in outliners):outliners.remove(',')\n",
    "            outliners = [int(i) for i in outliners]  #no ',', everything is int\n",
    "            sweeps = list(pdTimecourse.loc[pdTimecourse['Filename']==file]['Sweep'])\n",
    "\n",
    "            for i in sweeps:\n",
    "\n",
    "                mask = (pdTimecourse['Filename'] == file) & (pdTimecourse['Sweep'] == i)\n",
    "                if ((i in outliners)==False):\n",
    "                    pdTimecourse.loc[mask,'Good_to_analize']=True\n",
    "                else:\n",
    "                    pdTimecourse.loc[mask,'Good_to_analize']=False\n",
    "    elif (outliners_or_skip=='n'):\n",
    "        pdTimecourse.at[:,'Good_to_analize']=True\n",
    "        \n",
    "    elif (outliners_or_skip=='f'):\n",
    "        \n",
    "        if (os.path.isfile(path+an_filename)):\n",
    "            an_res=pd.read_excel(path+an_filename, sheet_name='Timecourse')\n",
    "            display (an_res)\n",
    "            pdTimecourse.at[:,'Good_to_analize']=an_res['Good_to_analize'][:]\n",
    "        else:\n",
    "            \n",
    "            print('There is no analisys file')\n",
    "        break;\n",
    "    else:\n",
    "        print ('I dont understand')\n",
    "        \n",
    "    \n",
    "    \n",
    " ######################################################################################################\n",
    "    #filling up the result dataframe\n",
    "    for file in filenames:\n",
    "        ind_df=len(pd_Res_by_file)\n",
    "        pd_Res_by_file.at[ind_df,'Condition']=cond\n",
    "        pd_Res_by_file.at[ind_df,'Filename']=file\n",
    "        mask = (pdTimecourse['Filename'] == file) & (pdTimecourse['Good_to_analize'] == True) #mask all raws where file and Good_to_analize\n",
    "        pd_Res_by_file.at[ind_df,'Mean_Resp_Ampl'] = np.mean(pdTimecourse.loc[mask,'Resp_Ampl'])\n",
    "        pd_Res_by_file.at[ind_df,'STD_Resp_Ampl'] = np.std(pdTimecourse.loc[mask,'Resp_Ampl'])\n",
    "        pd_Res_by_file.at[ind_df,'Mean_Latency'] = np.mean(pdTimecourse.loc[mask,'Latency'])\n",
    "        pd_Res_by_file.at[ind_df,'Jitter'] = np.std(pdTimecourse.loc[mask,'Latency'])\n",
    "        pd_Res_by_file.at[ind_df,'Stim'] = protocol['stim'][cond]\n",
    "        pd_Res_by_file.at[ind_df,'Comment'] = protocol['comment'][cond]\n",
    "        pd_Res_by_file.at[ind_df,'drug'] = protocol['drug'][cond]\n",
    "\n",
    "#display(pd_Res_by_file)\n",
    "\n",
    "#######################################################################################################\n",
    "#save to excel\n",
    "writer = pd.ExcelWriter(path+an_filename)\n",
    "pdTimecourse.to_excel(writer,'Timecourse')\n",
    "pd_Res_by_file.to_excel(writer,'Res_by_file')\n",
    "Analysis_constants.to_excel(writer,'Analysis_constants')\n",
    "\n",
    "writer.save()\n",
    "print('done')"
   ]
  },
  {
   "cell_type": "code",
   "execution_count": 60,
   "metadata": {},
   "outputs": [
    {
     "data": {
      "text/plain": [
       "-5"
      ]
     },
     "execution_count": 60,
     "metadata": {},
     "output_type": "execute_result"
    }
   ],
   "source": [
    "Analysis_constants['lat_diff_treashold'][0]"
   ]
  },
  {
   "cell_type": "code",
   "execution_count": 51,
   "metadata": {},
   "outputs": [
    {
     "data": {
      "image/png": "[encoded data removed]",
      "text/plain": [
       "<Figure size 432x288 with 1 Axes>"
      ]
     },
     "metadata": {
      "needs_background": "light"
     },
     "output_type": "display_data"
    }
   ],
   "source": [
    "plt.plot(data.sweepX*4,data.sweepY)\n",
    "plt.axvline(from_points_to_secs(PeakBorders[0],50), color = 'r')\n",
    "plt.axvline(from_points_to_secs(PeakBorders[1],50),color = 'k')\n",
    "plt.xlim(0.1,0.4)\n",
    "plt.show()"
   ]
  },
  {
   "cell_type": "code",
   "execution_count": null,
   "metadata": {},
   "outputs": [],
   "source": [
    "os.path."
   ]
  },
  {
   "cell_type": "code",
   "execution_count": 48,
   "metadata": {},
   "outputs": [
    {
     "data": {
      "image/png": "[encoded data removed]",
      "text/plain": [
       "<Figure size 432x288 with 1 Axes>"
      ]
     },
     "metadata": {
      "needs_background": "light"
     },
     "output_type": "display_data"
    }
   ],
   "source": [
    "x_ax=pdTimecourse.loc[:]['Stim']\n",
    "y_ax = pdTimecourse.loc[:]['Resp_Ampl']\n",
    "plt.plot(x_ax,y_ax,'.')\n",
    "plt.savefig( path+'Resp_Ampl_per_stim.png')\n",
    "#plt.figure()\n",
    "#y_ax = pd_Res_by_file.loc[:]['Stim']\n",
    "#plt.plot(x_ax,y_ax,'o')\n",
    "#plt.savefig( path+'Stim_per_file.png')"
   ]
  },
  {
   "cell_type": "code",
   "execution_count": 78,
   "metadata": {},
   "outputs": [],
   "source": [
    "#\n",
    "x_ax=pdTimecourse.loc[:]['Time_sec']\n",
    "y_ax = pdTimecourse.loc[:]['Resp_Ampl']\n",
    "y_ax_lat = pdTimecourse.loc[:]['Latency']\n",
    "plt.figure()\n",
    "plt.plot(x_ax/60,y_ax_lat)\n",
    "plt.close()\n",
    "#plt.savefig( path+'Resp_Ampl_min.png')\n",
    "#plt.figure()\n",
    "#plt.plot(x_ax,y_ax)\n",
    "#plt.savefig( path+'Resp_Ampl_sec.png')"
   ]
  },
  {
   "cell_type": "code",
   "execution_count": 4,
   "metadata": {},
   "outputs": [
    {
     "data": {
      "image/png": "[encoded data removed]",
      "text/plain": [
       "<Figure size 432x288 with 1 Axes>"
      ]
     },
     "metadata": {
      "needs_background": "light"
     },
     "output_type": "display_data"
    }
   ],
   "source": [
    "#Resp_Ampl for each sweep per sec\n",
    "plt.plot(pdTimecourse.loc[:]['Time_sec'],pdTimecourse.loc[:]['Resp_Ampl'], '.')\n",
    "plt.savefig( path+'Resp_Ampl_sec.png')"
   ]
  },
  {
   "cell_type": "code",
   "execution_count": 20,
   "metadata": {},
   "outputs": [
    {
     "data": {
      "text/plain": [
       "(1.095, 1.11)"
      ]
     },
     "execution_count": 20,
     "metadata": {},
     "output_type": "execute_result"
    },
    {
     "data": {
      "image/png": "[encoded data removed]",
      "text/plain": [
       "<Figure size 432x288 with 1 Axes>"
      ]
     },
     "metadata": {
      "needs_background": "light"
     },
     "output_type": "display_data"
    }
   ],
   "source": [
    "data.setSweep(1)\n",
    "plt.plot(data.sweepX*4,data.sweepY)\n",
    "plt.xlim(1.095,1.11)"
   ]
  },
  {
   "cell_type": "code",
   "execution_count": 8,
   "metadata": {},
   "outputs": [
    {
     "data": {
      "text/plain": [
       "'l868'"
      ]
     },
     "execution_count": 8,
     "metadata": {},
     "output_type": "execute_result"
    }
   ],
   "source": [
    "file"
   ]
  },
  {
   "cell_type": "code",
   "execution_count": null,
   "metadata": {},
   "outputs": [],
   "source": []
  }
 ],
 "metadata": {
  "kernelspec": {
   "display_name": "Python 3",
   "language": "python",
   "name": "python3"
  },
  "language_info": {
   "codemirror_mode": {
    "name": "ipython",
    "version": 3
   },
   "file_extension": ".py",
   "mimetype": "text/x-python",
   "name": "python",
   "nbconvert_exporter": "python",
   "pygments_lexer": "ipython3",
   "version": "3.7.4"
  }
 },
 "nbformat": 4,
 "nbformat_minor": 2
}
